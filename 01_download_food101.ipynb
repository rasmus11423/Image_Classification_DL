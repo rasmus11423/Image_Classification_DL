{
  "cells": [
    {
      "cell_type": "markdown",
      "metadata": {},
      "source": [
        "# Food-101 Download & Setup\n",
        "\n",
        "This notebook downloads the Food-101 dataset and prepares a local folder layout usable by the training notebook. It also lets you define a subset of 30–50 classes and saves a `config.json` you can reuse.\n"
      ]
    },
    {
      "cell_type": "code",
      "execution_count": null,
      "metadata": {},
      "outputs": [],
      "source": [
        "import os, json, zipfile\n",
        "from pathlib import Path\n",
        "\n",
        "PROJECT_ROOT = Path(r\"C:/Users/Name/OneDrive - The University of Texas at Austin/UT Austin-DEVICE/Deep L/Mini Project/Image_Classification_DL\") #Change based on your own path  \t\n",
        "DATA_DIR = PROJECT_ROOT / \"data\"\n",
        "FOOD101_DIR = DATA_DIR / \"food-101\"\n",
        "CONFIG_PATH = PROJECT_ROOT / \"config.json\"\n",
        "\n",
        "DATA_DIR.mkdir(parents=True, exist_ok=True)\n",
        "print(\"Project root:\", PROJECT_ROOT)\n",
        "print(\"Data dir:\", DATA_DIR)\n"
      ]
    },
    {
      "cell_type": "code",
      "execution_count": null,
      "metadata": {},
      "outputs": [],
      "source": [
        "# Download using torchvision (guarded)\n",
        "from pathlib import Path\n",
        "\n",
        "def has_images_meta(p: Path) -> bool:\n",
        "    return (p / \"images\").exists() and (p / \"meta\").exists()\n",
        "\n",
        "if not has_images_meta(FOOD101_DIR):\n",
        "    from torchvision.datasets import Food101 as TVFood101\n",
        "    print(\"Downloading Food-101 via torchvision (first run may take a while)...\")\n",
        "    _ = TVFood101(root=str(DATA_DIR), download=True)\n",
        "else:\n",
        "    print(\"Food-101 already present; skipping download.\")\n"
      ]
    },
    {
      "cell_type": "code",
      "execution_count": null,
      "metadata": {},
      "outputs": [],
      "source": [
        "# Resolve root with images/ and meta/\n",
        "from pathlib import Path\n",
        "\n",
        "def has_images_meta(p: Path) -> bool:\n",
        "    return (p / \"images\").exists() and (p / \"meta\").exists()\n",
        "\n",
        "ROOT = None\n",
        "candidates = [FOOD101_DIR, DATA_DIR / \"food-101\", *(p for p in DATA_DIR.glob(\"**/food-101\"))]\n",
        "for cand in candidates:\n",
        "    if has_images_meta(cand):\n",
        "        ROOT = cand\n",
        "        break\n",
        "\n",
        "if ROOT is None:\n",
        "    raise FileNotFoundError(\n",
        "        \"Could not find 'food-101' with images/ and meta/ under data dir after download attempts.\\n\"\n",
        "        f\"Please place it manually under: {DATA_DIR}\"\n",
        "    )\n",
        "\n",
        "print(\"Resolved FOOD-101 root:\", ROOT)\n",
        "print(\"Subdirs:\", os.listdir(ROOT))\n"
      ]
    },
    {
      "cell_type": "code",
      "execution_count": null,
      "metadata": {},
      "outputs": [],
      "source": [
        "# Select subset of classes and write config.json\n",
        "import random\n",
        "random.seed(42)\n",
        "\n",
        "all_classes = sorted(os.listdir(ROOT / \"images\"))\n",
        "subset_size = 30  # change to 30–50 as needed\n",
        "if subset_size > len(all_classes):\n",
        "    subset_size = len(all_classes)\n",
        "selected_classes = sorted(random.sample(all_classes, k=subset_size))\n",
        "\n",
        "config = {\n",
        "    \"dataset_root\": str(ROOT),\n",
        "    \"class_names\": selected_classes,\n",
        "    \"image_size\": 128,\n",
        "    \"split_protocol\": \"standard\",\n",
        "    \"seed\": 42,\n",
        "}\n",
        "with open(CONFIG_PATH, \"w\", encoding=\"utf-8\") as f:\n",
        "    json.dump(config, f, indent=2)\n",
        "\n",
        "print(\"Wrote config:\", CONFIG_PATH)\n",
        "print(config)\n"
      ]
    },
    {
      "cell_type": "code",
      "execution_count": null,
      "metadata": {},
      "outputs": [],
      "source": []
    }
  ],
  "metadata": {
    "kernelspec": {
      "display_name": "DeepL",
      "language": "python",
      "name": "python3"
    },
    "language_info": {
      "codemirror_mode": {
        "name": "ipython",
        "version": 3
      },
      "file_extension": ".py",
      "mimetype": "text/x-python",
      "name": "python",
      "nbconvert_exporter": "python",
      "pygments_lexer": "ipython3",
      "version": "3.10.18"
    }
  },
  "nbformat": 4,
  "nbformat_minor": 2
}
